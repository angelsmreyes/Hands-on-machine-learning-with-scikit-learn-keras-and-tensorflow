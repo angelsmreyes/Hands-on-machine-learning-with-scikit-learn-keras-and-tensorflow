{
  "nbformat": 4,
  "nbformat_minor": 0,
  "metadata": {
    "colab": {
      "name": "Nonlinear SVM Classification.ipynb",
      "provenance": [],
      "authorship_tag": "ABX9TyM1B7J9KoJgw2E05NrytIta",
      "include_colab_link": true
    },
    "kernelspec": {
      "name": "python3",
      "display_name": "Python 3"
    },
    "language_info": {
      "name": "python"
    }
  },
  "cells": [
    {
      "cell_type": "markdown",
      "metadata": {
        "id": "view-in-github",
        "colab_type": "text"
      },
      "source": [
        "<a href=\"https://colab.research.google.com/github/angelsmreyes/Hands-on-machine-learning-with-scikit-learn-keras-and-tensorflow/blob/main/Nonlinear_SVM_Classification.ipynb\" target=\"_parent\"><img src=\"https://colab.research.google.com/assets/colab-badge.svg\" alt=\"Open In Colab\"/></a>"
      ]
    },
    {
      "cell_type": "code",
      "execution_count": 56,
      "metadata": {
        "id": "2b90jY-RPWP9"
      },
      "outputs": [],
      "source": [
        "import numpy as np\n",
        "\n",
        "import matplotlib.pyplot as plt\n",
        "\n",
        "from sklearn.datasets import make_moons\n",
        "from sklearn.pipeline import Pipeline\n",
        "from sklearn.preprocessing import PolynomialFeatures\n",
        "from sklearn.preprocessing import StandardScaler\n",
        "from sklearn.svm import LinearSVC\n",
        "from sklearn.svm import SVC\n",
        "from sklearn.metrics import accuracy_score\n",
        "from sklearn.model_selection import train_test_split\n",
        "from sklearn.metrics import classification_report\n",
        "from sklearn.metrics import confusion_matrix\n",
        "from sklearn.metrics import plot_confusion_matrix"
      ]
    },
    {
      "cell_type": "code",
      "source": [
        "moon = make_moons()"
      ],
      "metadata": {
        "id": "b_t6ZiEpQ8pC"
      },
      "execution_count": 7,
      "outputs": []
    },
    {
      "cell_type": "code",
      "source": [
        "X = moon[0]"
      ],
      "metadata": {
        "id": "hwDK1yMpRFWY"
      },
      "execution_count": 13,
      "outputs": []
    },
    {
      "cell_type": "code",
      "source": [
        "y = moon[1]"
      ],
      "metadata": {
        "id": "BnaDWCM6Smwo"
      },
      "execution_count": 16,
      "outputs": []
    },
    {
      "cell_type": "code",
      "source": [
        "polynomial_svm_clf = Pipeline([\n",
        "                               ('poly_features', PolynomialFeatures(degree=3)),\n",
        "                               ('scaler', StandardScaler()),\n",
        "                               ('svm_clf', LinearSVC(C=10, loss='hinge'))\n",
        "])"
      ],
      "metadata": {
        "id": "BKWMUANlP0_L"
      },
      "execution_count": 20,
      "outputs": []
    },
    {
      "cell_type": "code",
      "source": [
        "polynomial_svm_clf.fit(X, y)"
      ],
      "metadata": {
        "colab": {
          "base_uri": "https://localhost:8080/"
        },
        "id": "ewjgw79AQlv-",
        "outputId": "a9c640bc-dbf7-4cb8-d4a7-5c889cee301d"
      },
      "execution_count": 22,
      "outputs": [
        {
          "output_type": "stream",
          "name": "stderr",
          "text": [
            "/usr/local/lib/python3.7/dist-packages/sklearn/svm/_base.py:1208: ConvergenceWarning: Liblinear failed to converge, increase the number of iterations.\n",
            "  ConvergenceWarning,\n"
          ]
        },
        {
          "output_type": "execute_result",
          "data": {
            "text/plain": [
              "Pipeline(steps=[('poly_features', PolynomialFeatures(degree=3)),\n",
              "                ('scaler', StandardScaler()),\n",
              "                ('svm_clf', LinearSVC(C=10, loss='hinge'))])"
            ]
          },
          "metadata": {},
          "execution_count": 22
        }
      ]
    },
    {
      "cell_type": "markdown",
      "source": [
        "**Train split the data**"
      ],
      "metadata": {
        "id": "-nefsNR7UCm8"
      }
    },
    {
      "cell_type": "code",
      "source": [
        "X_train, X_test, y_train, y_test = train_test_split(X, y, test_size=0.2)"
      ],
      "metadata": {
        "id": "mNKCFpYgQ7W4"
      },
      "execution_count": 25,
      "outputs": []
    },
    {
      "cell_type": "code",
      "source": [
        "# dimensions\n",
        "\n",
        "print('Train dimension: ', X_train.shape, y_train.shape)\n",
        "print('--------------')\n",
        "print('Test dimension: ', X_test.shape, y_test.shape)"
      ],
      "metadata": {
        "colab": {
          "base_uri": "https://localhost:8080/"
        },
        "id": "4ymKVyXtUZ5W",
        "outputId": "ce99df6f-5e80-4559-a069-0a70d829f3a0"
      },
      "execution_count": 29,
      "outputs": [
        {
          "output_type": "stream",
          "name": "stdout",
          "text": [
            "Train dimension:  (80, 2) (80,)\n",
            "--------------\n",
            "Test dimension:  (20, 2) (20,)\n"
          ]
        }
      ]
    },
    {
      "cell_type": "code",
      "source": [
        "polynomial_svm_clf.fit(X_train, y_train)"
      ],
      "metadata": {
        "colab": {
          "base_uri": "https://localhost:8080/"
        },
        "id": "DgSHIX_AUnL9",
        "outputId": "2608d46f-dd79-45f2-c89c-b8465559fa22"
      },
      "execution_count": 34,
      "outputs": [
        {
          "output_type": "stream",
          "name": "stderr",
          "text": [
            "/usr/local/lib/python3.7/dist-packages/sklearn/svm/_base.py:1208: ConvergenceWarning: Liblinear failed to converge, increase the number of iterations.\n",
            "  ConvergenceWarning,\n"
          ]
        },
        {
          "output_type": "execute_result",
          "data": {
            "text/plain": [
              "Pipeline(steps=[('poly_features', PolynomialFeatures(degree=3)),\n",
              "                ('scaler', StandardScaler()),\n",
              "                ('svm_clf', LinearSVC(C=10, loss='hinge'))])"
            ]
          },
          "metadata": {},
          "execution_count": 34
        }
      ]
    },
    {
      "cell_type": "code",
      "source": [
        "y_pred = polynomial_svm_clf.predict(X_test)"
      ],
      "metadata": {
        "id": "3XhqhckwU_0Q"
      },
      "execution_count": 37,
      "outputs": []
    },
    {
      "cell_type": "markdown",
      "source": [
        "**Model evaluation**"
      ],
      "metadata": {
        "id": "_8iCZJa7d47r"
      }
    },
    {
      "cell_type": "code",
      "source": [
        "accuracy_score(y_test, y_pred)"
      ],
      "metadata": {
        "colab": {
          "base_uri": "https://localhost:8080/"
        },
        "id": "0Xv3kHTPVXdh",
        "outputId": "83603837-ad4b-4a86-bfb9-38a9ce9aa1bc"
      },
      "execution_count": 40,
      "outputs": [
        {
          "output_type": "execute_result",
          "data": {
            "text/plain": [
              "1.0"
            ]
          },
          "metadata": {},
          "execution_count": 40
        }
      ]
    },
    {
      "cell_type": "code",
      "source": [
        "print(classification_report(y_test, y_pred))"
      ],
      "metadata": {
        "colab": {
          "base_uri": "https://localhost:8080/"
        },
        "id": "3rs2Fe_KVhSG",
        "outputId": "228674d5-1d5d-4dba-d805-fc07ee4a2859"
      },
      "execution_count": 43,
      "outputs": [
        {
          "output_type": "stream",
          "name": "stdout",
          "text": [
            "              precision    recall  f1-score   support\n",
            "\n",
            "           0       1.00      1.00      1.00        12\n",
            "           1       1.00      1.00      1.00         8\n",
            "\n",
            "    accuracy                           1.00        20\n",
            "   macro avg       1.00      1.00      1.00        20\n",
            "weighted avg       1.00      1.00      1.00        20\n",
            "\n"
          ]
        }
      ]
    },
    {
      "cell_type": "code",
      "source": [
        "confusion_matrix(y_test, y_pred)"
      ],
      "metadata": {
        "colab": {
          "base_uri": "https://localhost:8080/"
        },
        "id": "3Ls0uhCBdx-7",
        "outputId": "3f963b1d-ccec-4c65-cb42-2ce1a78e592f"
      },
      "execution_count": 45,
      "outputs": [
        {
          "output_type": "execute_result",
          "data": {
            "text/plain": [
              "array([[12,  0],\n",
              "       [ 0,  8]])"
            ]
          },
          "metadata": {},
          "execution_count": 45
        }
      ]
    },
    {
      "cell_type": "code",
      "source": [
        "plt.scatter(X_train[:,0], X_train[:,1])\n",
        "plt.title('Linearly separable data')\n",
        "plt.xlabel('x1')\n",
        "plt.ylabel('x2')"
      ],
      "metadata": {
        "colab": {
          "base_uri": "https://localhost:8080/",
          "height": 312
        },
        "id": "x2AJv-3VePL6",
        "outputId": "02d1729a-94f3-42b9-97f7-524a9e61e2fe"
      },
      "execution_count": 48,
      "outputs": [
        {
          "output_type": "execute_result",
          "data": {
            "text/plain": [
              "Text(0, 0.5, 'x2')"
            ]
          },
          "metadata": {},
          "execution_count": 48
        },
        {
          "output_type": "display_data",
          "data": {
            "image/png": "[encoded data removed]",
            "text/plain": [
              "<Figure size 432x288 with 1 Axes>"
            ]
          },
          "metadata": {
            "needs_background": "light"
          }
        }
      ]
    },
    {
      "cell_type": "code",
      "source": [
        "clf = SVC(kernel='linear')"
      ],
      "metadata": {
        "id": "m6Lcu1Y0Wm4Y"
      },
      "execution_count": 57,
      "outputs": []
    },
    {
      "cell_type": "code",
      "source": [
        "clf = clf.fit(X_train, y_train)"
      ],
      "metadata": {
        "id": "VJlZ9ErOZkvl"
      },
      "execution_count": 58,
      "outputs": []
    },
    {
      "cell_type": "code",
      "source": [
        "# support vector indices\n",
        "support_vector_indices = clf.support_\n",
        "print(support_vector_indices)"
      ],
      "metadata": {
        "colab": {
          "base_uri": "https://localhost:8080/"
        },
        "id": "zzoig9mMZqcT",
        "outputId": "d4919d2a-8a00-4c16-8a0b-2fafcf165bb5"
      },
      "execution_count": 62,
      "outputs": [
        {
          "output_type": "stream",
          "name": "stdout",
          "text": [
            "[ 5  6 14 28 33 36 40 41 47 55 57 59 73 15 17 20 34 43 46 48 56 63 64 65\n",
            " 75]\n"
          ]
        }
      ]
    },
    {
      "cell_type": "code",
      "source": [
        "# number of support vector per class\n",
        "support_vector_per_class = clf.n_support_\n",
        "print(support_vector_per_class)"
      ],
      "metadata": {
        "colab": {
          "base_uri": "https://localhost:8080/"
        },
        "id": "d6lbAbegJp2v",
        "outputId": "68f7f6f6-ae5d-4707-a610-969e42e11c8f"
      },
      "execution_count": 64,
      "outputs": [
        {
          "output_type": "stream",
          "name": "stdout",
          "text": [
            "[13 12]\n"
          ]
        }
      ]
    },
    {
      "cell_type": "code",
      "source": [
        "#support vectors \n",
        "support_vectors = clf.support_vectors_"
      ],
      "metadata": {
        "id": "8aNiENPKafG7"
      },
      "execution_count": 65,
      "outputs": []
    },
    {
      "cell_type": "code",
      "source": [
        "plt.scatter(X_train[:,0], X_train[:,1])\n",
        "plt.scatter(support_vectors[:,0], support_vectors[:,1], c='red')\n",
        "plt.title('Linearly separable data')\n",
        "plt.xlabel('x1')\n",
        "plt.ylabel('x2')"
      ],
      "metadata": {
        "colab": {
          "base_uri": "https://localhost:8080/",
          "height": 312
        },
        "id": "ZGzTSPPSbNOo",
        "outputId": "5364d26d-a248-4db9-be3e-62bbaa26d6f4"
      },
      "execution_count": 68,
      "outputs": [
        {
          "output_type": "execute_result",
          "data": {
            "text/plain": [
              "Text(0, 0.5, 'x2')"
            ]
          },
          "metadata": {},
          "execution_count": 68
        },
        {
          "output_type": "display_data",
          "data": {
            "image/png": "[encoded data removed]",
            "text/plain": [
              "<Figure size 432x288 with 1 Axes>"
            ]
          },
          "metadata": {
            "needs_background": "light"
          }
        }
      ]
    },
    {
      "cell_type": "markdown",
      "source": [
        "I still have to learn how to use support_, n_support and support_vectors_ with the pipeline. "
      ],
      "metadata": {
        "id": "Qb79fxBSbt70"
      }
    },
    {
      "cell_type": "code",
      "source": [
        ""
      ],
      "metadata": {
        "id": "ao-aeRWlbZMj"
      },
      "execution_count": null,
      "outputs": []
    }
  ]
}